{
  "cells": [
    {
      "cell_type": "code",
      "execution_count": 3,
      "metadata": {
        "id": "yTLhFuFtAs6m"
      },
      "outputs": [],
      "source": [
        "import numpy"
      ]
    },
    {
      "cell_type": "markdown",
      "metadata": {
        "id": "aJUke8q8BOCN"
      },
      "source": [
        "Создать вектор (одномерный массив) размера 10, заполненный\n",
        "нулями."
      ]
    },
    {
      "cell_type": "code",
      "execution_count": 4,
      "metadata": {
        "colab": {
          "base_uri": "https://localhost:8080/"
        },
        "id": "IeyFO2MZBOWE",
        "outputId": "360a9a7b-d6f7-4d9a-89d3-2c34ed9fe76c"
      },
      "outputs": [
        {
          "data": {
            "text/plain": [
              "array([0., 0., 0., 0., 0., 0., 0., 0., 0., 0.])"
            ]
          },
          "execution_count": 4,
          "metadata": {},
          "output_type": "execute_result"
        }
      ],
      "source": [
        "numpy.zeros(10)"
      ]
    },
    {
      "cell_type": "markdown",
      "metadata": {
        "id": "vfw-QxIQS76b"
      },
      "source": [
        "Создать вектор (одномерный массив) размера 10, заполненный\n",
        "нулями, пятый элемент должен быть равен"
      ]
    },
    {
      "cell_type": "code",
      "execution_count": 5,
      "metadata": {
        "colab": {
          "base_uri": "https://localhost:8080/"
        },
        "id": "ANwiHlwDBZVV",
        "outputId": "f676472d-345e-4a80-f24d-8bc11f201ce4"
      },
      "outputs": [
        {
          "name": "stdout",
          "output_type": "stream",
          "text": [
            "[0. 0. 0. 0. 0. 1. 0. 0. 0. 0.]\n"
          ]
        }
      ],
      "source": [
        "v = numpy.zeros(10)\n",
        "v[5] = 1\n",
        "print(v)"
      ]
    },
    {
      "cell_type": "markdown",
      "metadata": {
        "id": "sKIpomFcTBWm"
      },
      "source": [
        ". Создать вектор (одномерный массив) размера 20. Заполнить его\n",
        "случайными значениями. Найти индексы ненулевых элементов"
      ]
    },
    {
      "cell_type": "code",
      "execution_count": 6,
      "metadata": {
        "colab": {
          "base_uri": "https://localhost:8080/"
        },
        "id": "7pOE2-TZCDUz",
        "outputId": "a7ddc523-c2f5-4339-ff76-310281347716"
      },
      "outputs": [
        {
          "name": "stdout",
          "output_type": "stream",
          "text": [
            "[0.78229121 0.19448415 0.31194604 0.39158112 0.70787345 0.74725591\n",
            " 0.39928671 0.30124554 0.32170649 0.29183065 0.50615907 0.99908565\n",
            " 0.44125249 0.49157189 0.79082391 0.93548581 0.18345228 0.09827796\n",
            " 0.301493   0.66845683]\n",
            "(array([ 0,  1,  2,  3,  4,  5,  6,  7,  8,  9, 10, 11, 12, 13, 14, 15, 16,\n",
            "       17, 18, 19]),)\n"
          ]
        }
      ],
      "source": [
        "v = numpy.random.random(20)\n",
        "h = numpy.nonzero(v)\n",
        "print(v)\n",
        "print(h)"
      ]
    },
    {
      "cell_type": "markdown",
      "metadata": {
        "id": "y0AALAICTFTm"
      },
      "source": [
        "Создать массив 3x3x3. Заполнить его случайными значениями"
      ]
    },
    {
      "cell_type": "code",
      "execution_count": 7,
      "metadata": {
        "colab": {
          "base_uri": "https://localhost:8080/"
        },
        "id": "gX6EEJIiD2Bn",
        "outputId": "350299d6-f193-40c4-c425-5d5b1cf8fd48"
      },
      "outputs": [
        {
          "name": "stdout",
          "output_type": "stream",
          "text": [
            "[[[0.4348995  0.63971945 0.27545029]\n",
            "  [0.12717151 0.67831825 0.1480101 ]\n",
            "  [0.92893744 0.5328711  0.78033258]]\n",
            "\n",
            " [[0.1250723  0.69219514 0.22212205]\n",
            "  [0.45917261 0.96916737 0.62058928]\n",
            "  [0.71808551 0.33158945 0.13853779]]\n",
            "\n",
            " [[0.57217043 0.39144288 0.59698666]\n",
            "  [0.54153608 0.18714923 0.03651459]\n",
            "  [0.98393303 0.40128208 0.91142608]]]\n"
          ]
        }
      ],
      "source": [
        "v = numpy.random.random((3,3,3))\n",
        "print(v)"
      ]
    },
    {
      "cell_type": "markdown",
      "metadata": {
        "id": "xVJphLoZTISW"
      },
      "source": [
        "Создать вектор (одномерный массив) размера 10. Заполнить его\n",
        "случайными значениями. Найти среднее значение всех элементов"
      ]
    },
    {
      "cell_type": "code",
      "execution_count": 8,
      "metadata": {
        "colab": {
          "base_uri": "https://localhost:8080/"
        },
        "id": "rIBQnyCTEKUo",
        "outputId": "0693863f-3d5e-4288-e9a7-6cfaa016869a"
      },
      "outputs": [
        {
          "name": "stdout",
          "output_type": "stream",
          "text": [
            "0.37438797094653187\n"
          ]
        }
      ],
      "source": [
        "v = numpy.random.random(10)\n",
        "h = numpy.mean(v)\n",
        "print(h)"
      ]
    },
    {
      "cell_type": "markdown",
      "metadata": {
        "id": "6jiFm5I0TORG"
      },
      "source": [
        " Создать две матрицы 5x3 и 3x2. Найти их произведение."
      ]
    },
    {
      "cell_type": "code",
      "execution_count": 9,
      "metadata": {
        "colab": {
          "base_uri": "https://localhost:8080/"
        },
        "id": "Uwc-HU-2Fv3z",
        "outputId": "edbdf0ed-dffa-483a-e181-cd4813621141"
      },
      "outputs": [
        {
          "name": "stdout",
          "output_type": "stream",
          "text": [
            "[[1.29963768 0.30807646]\n",
            " [0.23816845 0.16732291]\n",
            " [0.79108544 0.16551816]\n",
            " [0.61703436 0.14969651]\n",
            " [1.23072852 0.43617891]]\n"
          ]
        }
      ],
      "source": [
        "v = numpy.random.random((5,3))\n",
        "m = numpy.random.random((3,2))\n",
        "j = numpy.dot(v, m)\n",
        "print(j)"
      ]
    },
    {
      "cell_type": "markdown",
      "metadata": {
        "id": "o8e_gU8bJgNe"
      },
      "source": [
        "Создать две матрицы 4x4 и 4x4. Найти их произведение. Найти\n",
        "диагональные элементы произведения матриц"
      ]
    },
    {
      "cell_type": "code",
      "execution_count": 10,
      "metadata": {
        "colab": {
          "base_uri": "https://localhost:8080/"
        },
        "id": "4u9yJbovFyKa",
        "outputId": "79054eba-5117-461b-ca61-c06e16fb2443"
      },
      "outputs": [
        {
          "name": "stdout",
          "output_type": "stream",
          "text": [
            "[0.62559169 0.13829739 0.90045771 1.3324192 ]\n"
          ]
        }
      ],
      "source": [
        "v = numpy.random.random((4,4))\n",
        "m = numpy.random.random((4,4))\n",
        "j = numpy.dot(v, m)\n",
        "g = numpy.diag(j)\n",
        "print(g)"
      ]
    },
    {
      "cell_type": "markdown",
      "metadata": {
        "id": "-T6jv7tqTdRK"
      },
      "source": [
        "Создать вектор (одномерный массив) размера 20. Заполнить его\n",
        "случайными значениями. Заменить максимальный элемент на ноль"
      ]
    },
    {
      "cell_type": "code",
      "execution_count": 11,
      "metadata": {
        "colab": {
          "base_uri": "https://localhost:8080/"
        },
        "id": "9B1rYJC-HmXV",
        "outputId": "40950f0a-0af6-4fc2-e024-c773289d5c98"
      },
      "outputs": [
        {
          "name": "stdout",
          "output_type": "stream",
          "text": [
            "[0.52051098 0.71123223 0.11163107 0.82627481 0.62671177 0.23905597\n",
            " 0.73426564 0.36537548 0.8843213  0.09751169 0.49204876 0.88882744\n",
            " 0.8967762  0.43004744 0.         0.42260882 0.82678477 0.35906316\n",
            " 0.34135318 0.79174161]\n"
          ]
        }
      ],
      "source": [
        "v = numpy.random.random(20)\n",
        "m = numpy.argmax(v)\n",
        "v[m] = 0\n",
        "print(v)\n"
      ]
    },
    {
      "cell_type": "markdown",
      "metadata": {
        "id": "dJq57xShTbua"
      },
      "source": [
        "Создать вектор (одномерный массив) размера 20. Заполнить его\n",
        "случайными значениями. Напечатать все значения в массиве без повторений."
      ]
    },
    {
      "cell_type": "code",
      "execution_count": 12,
      "metadata": {
        "colab": {
          "base_uri": "https://localhost:8080/"
        },
        "id": "pRMzJ1CfJp9r",
        "outputId": "b5538427-6d2a-4d76-f8d2-8c1d1ef5d1dd"
      },
      "outputs": [
        {
          "name": "stdout",
          "output_type": "stream",
          "text": [
            "[ 2 14 20 22 32 37 44 45 50 51 59 65 75 84 86 88 91 93 97]\n"
          ]
        }
      ],
      "source": [
        "v = numpy.random.randint(1,100,20)\n",
        "my_set = numpy.unique(v)\n",
        "print(my_set)"
      ]
    },
    {
      "cell_type": "markdown",
      "metadata": {
        "id": "ijSy1jLiTlyl"
      },
      "source": [
        "Создать матрицу. Отнять среднее из каждой строки в матрице"
      ]
    },
    {
      "cell_type": "code",
      "execution_count": 13,
      "metadata": {
        "colab": {
          "base_uri": "https://localhost:8080/"
        },
        "id": "fsX-SVjlLOKr",
        "outputId": "cbe0cb0e-3358-4f93-ec43-8fe54144e9e0"
      },
      "outputs": [
        {
          "name": "stdout",
          "output_type": "stream",
          "text": [
            "v: \n",
            " [[17 44 40 33]\n",
            " [89 59 22 36]\n",
            " [40 43 19 54]\n",
            " [ 1 90 77 46]]\n",
            "v: \n",
            " [[-16  10   6   0]\n",
            " [ 37   7 -29 -15]\n",
            " [  1   4 -20  15]\n",
            " [-52  36  23  -7]]\n"
          ]
        }
      ],
      "source": [
        "v = numpy.random.randint(1,100,size=(4,4))\n",
        "print('v: \\n', v)\n",
        "for i in v:\n",
        "  m = i.mean()\n",
        "  for j in range(0, i.size):\n",
        "    i[j] -= m\n",
        "print('v: \\n', v)"
      ]
    },
    {
      "cell_type": "markdown",
      "metadata": {
        "id": "0k0kM0YRViyo"
      },
      "source": [
        "Создать матрицу. Поменять две строки в матрице"
      ]
    },
    {
      "cell_type": "code",
      "execution_count": 14,
      "metadata": {
        "colab": {
          "base_uri": "https://localhost:8080/"
        },
        "id": "UxYpkaUrVh-g",
        "outputId": "71d1210e-b7f7-4fe8-db45-e6a8698411de"
      },
      "outputs": [
        {
          "name": "stdout",
          "output_type": "stream",
          "text": [
            "v: \n",
            " [[90 66 79 95]\n",
            " [93 59 90 19]\n",
            " [78 15 46 88]\n",
            " [17 88 43 24]]\n",
            "v: \n",
            " [[78 15 46 88]\n",
            " [93 59 90 19]\n",
            " [90 66 79 95]\n",
            " [17 88 43 24]]\n"
          ]
        }
      ],
      "source": [
        "v = numpy.random.randint(1, 100, size=(4,4))\n",
        "print('v: \\n', v)\n",
        "v[[0, 2]] = v[[2, 0]]\n",
        "print('v: \\n', v)"
      ]
    },
    {
      "cell_type": "markdown",
      "metadata": {
        "id": "hRfw0bl6Wfsl"
      },
      "source": [
        "Создать вектор (одномерный массив) размера 20. Заполнить его\n",
        "случайными значениями. Найти n наибольших значений в векторе"
      ]
    },
    {
      "cell_type": "code",
      "execution_count": 15,
      "metadata": {
        "colab": {
          "base_uri": "https://localhost:8080/"
        },
        "id": "IO_5-D8DWhF1",
        "outputId": "7b65d61e-004a-4f0b-91f4-3003281156b7"
      },
      "outputs": [
        {
          "name": "stdout",
          "output_type": "stream",
          "text": [
            "12\n",
            "v: \n",
            " [77 70 71 85 63 39 95 43 22 75 89 14 35 73 79 23 82 53 49 22]\n",
            "v: \n",
            " [14 22 22 23 35 39 43 49 53 63 70 71 73 75 77 79 82 85 89 95]\n",
            "v: \n",
            " [53 63 70 71 73 75 77 79 82 85 89 95]\n"
          ]
        }
      ],
      "source": [
        "v = numpy.random.randint(1, 100, 20)\n",
        "n=numpy.random.randint(1, 20)\n",
        "print(n)\n",
        "print('v: \\n', v)\n",
        "v.sort()\n",
        "print('v: \\n', v)\n",
        "print('v: \\n', v[numpy.size(v)-n:numpy.size(v)])\n"
      ]
    },
    {
      "cell_type": "markdown",
      "metadata": {
        "id": "dh0_m6i-YB7s"
      },
      "source": [
        "Создать матрицу размера 5x5 и заполнить ее случайными целыми\n",
        "числами от 1 до 10. Найти сумму элементов каждой строки"
      ]
    },
    {
      "cell_type": "code",
      "execution_count": 16,
      "metadata": {
        "colab": {
          "base_uri": "https://localhost:8080/"
        },
        "id": "3nmyOOXhYEK0",
        "outputId": "101b81c7-2d95-4c77-c546-e459a1a8338d"
      },
      "outputs": [
        {
          "name": "stdout",
          "output_type": "stream",
          "text": [
            "v: \n",
            " [[6 5 5 7 2]\n",
            " [7 5 8 1 8]\n",
            " [9 6 5 8 5]\n",
            " [4 4 1 4 3]\n",
            " [1 5 2 4 2]]\n",
            "v[ [6 5 5 7 2] ] : 25 \n",
            "\n",
            "v[ [7 5 8 1 8] ] : 29 \n",
            "\n",
            "v[ [9 6 5 8 5] ] : 33 \n",
            "\n",
            "v[ [4 4 1 4 3] ] : 16 \n",
            "\n",
            "v[ [1 5 2 4 2] ] : 14 \n",
            "\n"
          ]
        }
      ],
      "source": [
        "v = numpy.random.randint(1, 10, size=(5,5))\n",
        "print('v: \\n', v)\n",
        "for i in v:\n",
        "  s = i.sum()\n",
        "  print('v[',i,'] :' , s, '\\n')"
      ]
    },
    {
      "cell_type": "markdown",
      "metadata": {
        "id": "1ez61CgMZJPm"
      },
      "source": [
        "Создать вектор (одномерный массив) размера 10. Заполнить его\n",
        "случайными значениями от -1 до 1. Заменить отрицательные значения на -1,\n",
        "положительные на 1, и оставить нулевые значения без изменений\n"
      ]
    },
    {
      "cell_type": "code",
      "execution_count": 17,
      "metadata": {
        "colab": {
          "base_uri": "https://localhost:8080/"
        },
        "id": "5GoSEA48ZGMe",
        "outputId": "3948ba9b-29fb-49cf-de4e-7fd58a8f4697"
      },
      "outputs": [
        {
          "name": "stdout",
          "output_type": "stream",
          "text": [
            "v: \n",
            " [-0.62689326 -0.40030806  0.32290977 -0.38581406 -0.92404225  0.13438724\n",
            "  0.80674641 -0.8738966   0.58582435 -0.6258373 ]\n",
            "v: \n",
            " [-1. -1.  1. -1. -1.  1.  1. -1.  1. -1.]\n"
          ]
        }
      ],
      "source": [
        "v = numpy.random.uniform(-1,1,size=10)\n",
        "print('v: \\n', v)\n",
        "for i in range(0,numpy.size(v)):\n",
        "    if(v[i]<0):\n",
        "      v[i]=-1\n",
        "    if(v[i]>0):\n",
        "      v[i]=1\n",
        "print('v: \\n', v)\n"
      ]
    },
    {
      "cell_type": "markdown",
      "metadata": {
        "id": "IDX0IvDVbtvy"
      },
      "source": [
        "Создать вектор (одномерный массив) размера 12 и заполнить его\n",
        "случайными значениями от 1 до 100. Разделить вектор на 3 равные части и\n",
        "найти сумму элементов в каждой части"
      ]
    },
    {
      "cell_type": "code",
      "execution_count": 18,
      "metadata": {
        "colab": {
          "base_uri": "https://localhost:8080/"
        },
        "id": "yFhoczlgbtBL",
        "outputId": "109d4fe5-416e-4bc2-f48b-24f8900e4941"
      },
      "outputs": [
        {
          "name": "stdout",
          "output_type": "stream",
          "text": [
            "v: \n",
            " [31.86674371 37.58708807 98.04658857 36.54394785 28.77762518 27.43904233\n",
            "  3.91924747  8.42005666 79.09675523 56.6147833  13.29021062  7.90541524]\n",
            "array: \n",
            " [array([31.86674371, 37.58708807, 98.04658857, 36.54394785]), array([28.77762518, 27.43904233,  3.91924747,  8.42005666]), array([79.09675523, 56.6147833 , 13.29021062,  7.90541524])]\n",
            "0 : 204.04436820139676 \n",
            "\n",
            "1 : 68.55597164033209 \n",
            "\n",
            "2 : 156.90716438512118 \n",
            "\n"
          ]
        }
      ],
      "source": [
        "v = numpy.random.uniform(1,100,size=12)\n",
        "len = numpy.array_split(v,3)\n",
        "print('v: \\n', v)\n",
        "print('array: \\n',len)\n",
        "for i in range(0,3):\n",
        "  sum=len[i].sum()\n",
        "  print(i,':',sum,'\\n')"
      ]
    }
  ],
  "metadata": {
    "colab": {
      "provenance": []
    },
    "kernelspec": {
      "display_name": "venv",
      "language": "python",
      "name": "python3"
    },
    "language_info": {
      "codemirror_mode": {
        "name": "ipython",
        "version": 3
      },
      "file_extension": ".py",
      "mimetype": "text/x-python",
      "name": "python",
      "nbconvert_exporter": "python",
      "pygments_lexer": "ipython3",
      "version": "3.13.2"
    }
  },
  "nbformat": 4,
  "nbformat_minor": 0
}
