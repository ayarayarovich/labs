{
  "cells": [
    {
      "cell_type": "code",
      "execution_count": 1,
      "metadata": {
        "id": "L0vOiPw4n7EK"
      },
      "outputs": [],
      "source": [
        "import pandas as pd\n",
        "import numpy as np\n",
        "from sklearn.datasets import load_wine\n",
        "from sklearn.model_selection import train_test_split, KFold, cross_val_score\n",
        "from sklearn.linear_model import LinearRegression, Lasso, Ridge, LassoCV, RidgeCV\n",
        "from sklearn.preprocessing import StandardScaler, PolynomialFeatures\n",
        "from sklearn.metrics import mean_squared_error, r2_score\n",
        "import matplotlib.pyplot as plt\n",
        "import seaborn as sns\n",
        "%matplotlib inline"
      ]
    },
    {
      "cell_type": "code",
      "execution_count": 52,
      "metadata": {
        "id": "ZxyPJGFWoSMk"
      },
      "outputs": [],
      "source": [
        "df = pd.read_csv(\"AirQualityUCI.csv\", sep=';', na_values=-200, decimal=',')"
      ]
    },
    {
      "cell_type": "markdown",
      "metadata": {
        "id": "zHuNhJwHpzuu"
      },
      "source": [
        "# 1. Базовая линейная регрессия с одним признаком"
      ]
    },
    {
      "cell_type": "code",
      "execution_count": 42,
      "metadata": {
        "colab": {
          "base_uri": "https://localhost:8080/"
        },
        "id": "dmKqd-pood8t",
        "outputId": "5911d2cd-7ea4-47a1-f22f-c2141f9e23f7"
      },
      "outputs": [
        {
          "name": "stdout",
          "output_type": "stream",
          "text": [
            "1. Базовая линейная регрессия:\n",
            "R-квадрат: 0.00\n",
            "MSE: 1686.22\n"
          ]
        }
      ],
      "source": [
        "filtered_df = df[df['CO(GT)'].notnull()]\n",
        "filtered_df = filtered_df[filtered_df['C6H6(GT)'].notnull()]\n",
        "\n",
        "X = filtered_df[['CO(GT)']]\n",
        "y = filtered_df['C6H6(GT)']\n",
        "X_train, X_test, y_train, y_test = train_test_split(X, y, test_size=0.2, random_state=42)\n",
        "\n",
        "model_1 = LinearRegression()\n",
        "model_1.fit(X_train, y_train)\n",
        "y_pred_1 = model_1.predict(X_test)\n",
        "\n",
        "r2_1 = r2_score(y_test, y_pred_1)\n",
        "mse_1 = mean_squared_error(y_test, y_pred_1)\n",
        "\n",
        "print(\"1. Базовая линейная регрессия:\")\n",
        "print(f\"R-квадрат: {r2_1:.2f}\")\n",
        "print(f\"MSE: {mse_1:.2f}\")"
      ]
    },
    {
      "cell_type": "markdown",
      "metadata": {
        "id": "FLPJ3VgEqFMh"
      },
      "source": [
        "# 2. Множественная линейная регрессия"
      ]
    },
    {
      "cell_type": "code",
      "execution_count": 43,
      "metadata": {
        "colab": {
          "base_uri": "https://localhost:8080/"
        },
        "id": "YXORyoafoeCO",
        "outputId": "4dee1fad-3dee-4d1d-9a5e-4c4436b050a4"
      },
      "outputs": [
        {
          "name": "stdout",
          "output_type": "stream",
          "text": [
            "\n",
            "2. Множественная линейная регрессия:\n",
            "R-квадрат: 0.51\n",
            "MSE: 2922.65\n"
          ]
        }
      ],
      "source": [
        "fdf = df\n",
        "fdf = fdf[fdf['C6H6(GT)'].notnull()]\n",
        "fdf = fdf[fdf['T'].notnull()]\n",
        "fdf = fdf[fdf['RH'].notnull()]\n",
        "fdf = fdf[fdf['NO2(GT)'].notnull()]\n",
        "fdf = fdf[fdf['CO(GT)'].notnull()]\n",
        "X = fdf[['C6H6(GT)', 'T', 'RH', 'NO2(GT)']]  # Пример набора признаков\n",
        "y = fdf['CO(GT)']\n",
        "X_train, X_test, y_train, y_test = train_test_split(X, y, test_size=0.2, random_state=42)\n",
        "\n",
        "model_2 = LinearRegression()\n",
        "model_2.fit(X_train, y_train)\n",
        "y_pred_2 = model_2.predict(X_test)\n",
        "\n",
        "r2_2 = r2_score(y_test, y_pred_2)\n",
        "mse_2 = mean_squared_error(y_test, y_pred_2)\n",
        "\n",
        "print(\"\\n2. Множественная линейная регрессия:\")\n",
        "print(f\"R-квадрат: {r2_2:.2f}\")\n",
        "print(f\"MSE: {mse_2:.2f}\")"
      ]
    },
    {
      "cell_type": "markdown",
      "metadata": {
        "id": "ydLvwUNSqL_G"
      },
      "source": [
        "# 3. Стандартизация признаков и линейная регрессия"
      ]
    },
    {
      "cell_type": "code",
      "execution_count": 44,
      "metadata": {
        "colab": {
          "base_uri": "https://localhost:8080/"
        },
        "id": "uvxOJW5gqL25",
        "outputId": "98a64780-fc57-493d-b91b-dc2c9498ea3d"
      },
      "outputs": [
        {
          "name": "stdout",
          "output_type": "stream",
          "text": [
            "\n",
            "3. Стандартизация и линейная регрессия:\n",
            "R-квадрат: 0.51\n",
            "MSE: 2922.65\n"
          ]
        }
      ],
      "source": [
        "fdf = df\n",
        "fdf = fdf[fdf['C6H6(GT)'].notnull()]\n",
        "fdf = fdf[fdf['T'].notnull()]\n",
        "fdf = fdf[fdf['RH'].notnull()]\n",
        "fdf = fdf[fdf['NO2(GT)'].notnull()]\n",
        "fdf = fdf[fdf['CO(GT)'].notnull()]\n",
        "X = fdf[['C6H6(GT)', 'T', 'RH', 'NO2(GT)']]  # Пример набора признаков\n",
        "y = fdf['CO(GT)']\n",
        "X_train, X_test, y_train, y_test = train_test_split(X, y, test_size=0.2, random_state=42)\n",
        "\n",
        "scaler = StandardScaler()\n",
        "X_train_scaled = scaler.fit_transform(X_train)\n",
        "X_test_scaled = scaler.transform(X_test)\n",
        "\n",
        "model_3 = LinearRegression()\n",
        "model_3.fit(X_train_scaled, y_train)\n",
        "y_pred_3 = model_3.predict(X_test_scaled)\n",
        "\n",
        "r2_3 = r2_score(y_test, y_pred_3)\n",
        "mse_3 = mean_squared_error(y_test, y_pred_3)\n",
        "\n",
        "print(\"\\n3. Стандартизация и линейная регрессия:\")\n",
        "print(f\"R-квадрат: {r2_3:.2f}\")\n",
        "print(f\"MSE: {mse_3:.2f}\")"
      ]
    },
    {
      "cell_type": "markdown",
      "metadata": {
        "id": "JT799YLAqMSy"
      },
      "source": [
        "# 4. Линейная регрессия с L1 регуляризацией (Lasso)"
      ]
    },
    {
      "cell_type": "code",
      "execution_count": 55,
      "metadata": {
        "colab": {
          "base_uri": "https://localhost:8080/"
        },
        "id": "nUTBBWCHqMG_",
        "outputId": "8deb169d-587e-4aef-d22b-c807ec284c2a"
      },
      "outputs": [
        {
          "name": "stdout",
          "output_type": "stream",
          "text": [
            "\n",
            "4. Lasso регрессия:\n",
            "R-квадрат: 0.97\n",
            "MSE: 0.06\n",
            "Оптимальный alpha: 0.0014\n",
            "Ненулевые коэффициенты: 12\n"
          ]
        }
      ],
      "source": [
        "fdf = df\n",
        "for col in fdf.columns:\n",
        "    fdf = fdf[~pd.isnull(fdf[col])]\n",
        "\n",
        "X = fdf.drop(['CO(GT)', 'Date', 'Time'], axis=1)  # Все признаки, кроме целевой\n",
        "y = fdf['CO(GT)']\n",
        "X_train, X_test, y_train, y_test = train_test_split(X, y, test_size=0.2, train_size=0.5, random_state=42)\n",
        "\n",
        "scaler = StandardScaler()\n",
        "X_train_scaled = scaler.fit_transform(X_train)\n",
        "X_test_scaled = scaler.transform(X_test)\n",
        "\n",
        "lasso_cv = LassoCV(cv=5)  # Кросс-валидация для выбора alpha\n",
        "lasso_cv.fit(X_train_scaled, y_train)\n",
        "\n",
        "model_4 = Lasso(alpha=lasso_cv.alpha_)\n",
        "model_4.fit(X_train_scaled, y_train)\n",
        "y_pred_4 = model_4.predict(X_test_scaled)\n",
        "\n",
        "r2_4 = r2_score(y_test, y_pred_4)\n",
        "mse_4 = mean_squared_error(y_test, y_pred_4)\n",
        "non_zero_coeffs = np.sum(model_4.coef_ != 0)\n",
        "\n",
        "print(\"\\n4. Lasso регрессия:\")\n",
        "print(f\"R-квадрат: {r2_4:.2f}\")\n",
        "print(f\"MSE: {mse_4:.2f}\")\n",
        "print(f\"Оптимальный alpha: {lasso_cv.alpha_:.4f}\")\n",
        "print(f\"Ненулевые коэффициенты: {non_zero_coeffs}\")"
      ]
    },
    {
      "cell_type": "markdown",
      "metadata": {
        "id": "hpwwkmHzqbpm"
      },
      "source": [
        "# 5. Линейная регрессия с L2 регуляризацией (Ridge)"
      ]
    },
    {
      "cell_type": "code",
      "execution_count": 56,
      "metadata": {
        "colab": {
          "base_uri": "https://localhost:8080/"
        },
        "id": "crma2Khhqbyw",
        "outputId": "a3a97bf3-86f3-4625-f0d2-c32c46c030eb"
      },
      "outputs": [
        {
          "name": "stdout",
          "output_type": "stream",
          "text": [
            "\n",
            "5. Ridge регрессия:\n",
            "R-квадрат: 0.97\n",
            "MSE: 0.06\n",
            "Оптимальный alpha: 0.1000\n"
          ]
        }
      ],
      "source": [
        "fdf = df\n",
        "for col in fdf.columns:\n",
        "    fdf = fdf[~pd.isnull(fdf[col])]\n",
        "\n",
        "X = fdf.drop(['CO(GT)', 'Date', 'Time'], axis=1)  # Все признаки, кроме целевой\n",
        "y = fdf['CO(GT)']\n",
        "X_train, X_test, y_train, y_test = train_test_split(X, y, test_size=0.2, random_state=42)\n",
        "\n",
        "scaler = StandardScaler()\n",
        "X_train_scaled = scaler.fit_transform(X_train)\n",
        "X_test_scaled = scaler.transform(X_test)\n",
        "\n",
        "ridge_cv = RidgeCV(cv=5)\n",
        "ridge_cv.fit(X_train_scaled, y_train)\n",
        "\n",
        "model_5 = Ridge(alpha=ridge_cv.alpha_)\n",
        "model_5.fit(X_train_scaled, y_train)\n",
        "y_pred_5 = model_5.predict(X_test_scaled)\n",
        "\n",
        "r2_5 = r2_score(y_test, y_pred_5)\n",
        "mse_5 = mean_squared_error(y_test, y_pred_5)\n",
        "\n",
        "print(\"\\n5. Ridge регрессия:\")\n",
        "print(f\"R-квадрат: {r2_5:.2f}\")\n",
        "print(f\"MSE: {mse_5:.2f}\")\n",
        "print(f\"Оптимальный alpha: {ridge_cv.alpha_:.4f}\")"
      ]
    },
    {
      "cell_type": "markdown",
      "metadata": {
        "id": "qHTEOusnrkp6"
      },
      "source": [
        "Результаты очень похожи на Lasso, с небольшим улучшением (R-квадрат = 0.70, MSE = 0.18). Ridge регуляризация также помогла улучшить обобщающую способность, но не так сильно, как можно было ожидать."
      ]
    },
    {
      "cell_type": "markdown",
      "metadata": {
        "id": "RIor6h-iqb8l"
      },
      "source": [
        "# 6. Кросс-валидация для оценки модели (множественная регрессия)"
      ]
    },
    {
      "cell_type": "code",
      "execution_count": 62,
      "metadata": {
        "colab": {
          "base_uri": "https://localhost:8080/"
        },
        "id": "hVXn5GFdqcFc",
        "outputId": "9add758f-4111-48f6-ab3c-4225ee515385"
      },
      "outputs": [
        {
          "name": "stdout",
          "output_type": "stream",
          "text": [
            "\n",
            "6. Кросс-валидация:\n",
            "Средний R-квадрат: 1.00\n",
            "Средний MSE: 0.00\n"
          ]
        }
      ],
      "source": [
        "# fdf = df\n",
        "# for col in fdf.columns:\n",
        "#     fdf = fdf[~pd.isnull(df[col])]\n",
        "fdf = df[['C6H6(GT)', 'NO2(GT)', 'NOx(GT)']].notnull()\n",
        "\n",
        "X = fdf[['C6H6(GT)', 'NO2(GT)', 'NOx(GT)']]\n",
        "y = fdf['C6H6(GT)']\n",
        "\n",
        "model_6 = LinearRegression()\n",
        "kf = KFold(n_splits=5, shuffle=True, random_state=42)  # K-fold кросс-валидация\n",
        "\n",
        "r2_scores = cross_val_score(model_6, X, y, cv=kf, scoring='r2')\n",
        "mse_scores = cross_val_score(model_6, X, y, cv=kf, scoring='neg_mean_squared_error') # negative MSE\n",
        "\n",
        "print(\"\\n6. Кросс-валидация:\")\n",
        "print(f\"Средний R-квадрат: {r2_scores.mean():.2f}\")\n",
        "print(f\"Средний MSE: {-mse_scores.mean():.2f}\") # Возвращаем положительное значение MSE\n"
      ]
    },
    {
      "cell_type": "markdown",
      "metadata": {
        "id": "rvPhQdv5qcM_"
      },
      "source": [
        "# 8. Полиномиальная регрессия"
      ]
    },
    {
      "cell_type": "code",
      "execution_count": 63,
      "metadata": {
        "colab": {
          "base_uri": "https://localhost:8080/"
        },
        "id": "ZGJ1o814qcVt",
        "outputId": "fadba947-a842-472a-9d93-383882beb4da"
      },
      "outputs": [
        {
          "name": "stdout",
          "output_type": "stream",
          "text": [
            "\n",
            "8. Полиномиальная регрессия:\n",
            "R-квадрат: 1.00\n",
            "MSE: 0.00\n"
          ]
        }
      ],
      "source": [
        "fdf = df[['C6H6(GT)', 'NO2(GT)', 'NOx(GT)']].notnull()\n",
        "\n",
        "X = fdf[['C6H6(GT)', 'NO2(GT)', 'NOx(GT)']]\n",
        "y = fdf['C6H6(GT)']\n",
        "\n",
        "X_train, X_test, y_train, y_test = train_test_split(X, y, test_size=0.2, random_state=42)\n",
        "\n",
        "poly = PolynomialFeatures(degree=2) # Создаем полиномиальные признаки степени 2\n",
        "X_train_poly = poly.fit_transform(X_train)\n",
        "X_test_poly = poly.transform(X_test)\n",
        "\n",
        "model_8 = LinearRegression()\n",
        "model_8.fit(X_train_poly, y_train)\n",
        "y_pred_8 = model_8.predict(X_test_poly)\n",
        "\n",
        "r2_8 = r2_score(y_test, y_pred_8)\n",
        "mse_8 = mean_squared_error(y_test, y_pred_8)\n",
        "\n",
        "print(\"\\n8. Полиномиальная регрессия:\")\n",
        "print(f\"R-квадрат: {r2_8:.2f}\")\n",
        "print(f\"MSE: {mse_8:.2f}\")\n"
      ]
    },
    {
      "cell_type": "markdown",
      "metadata": {
        "id": "KFFWT96krtUx"
      },
      "source": [
        "Хуже, чем все модели, кроме базовой (R-квадрат = 0.52, MSE = 0.29). Это может указывать на то, что зависимость между признаками и содержанием алкоголя не является сильно нелинейной, или что выбранная степень полинома (2) не является оптимальной, или же произошёл перебор признаков, что привело к ухудшению результатов.\n"
      ]
    },
    {
      "cell_type": "markdown",
      "metadata": {
        "id": "ts14NzOoqv9i"
      },
      "source": [
        "# 9. Сравнение моделей и интерпретация результатов"
      ]
    },
    {
      "cell_type": "code",
      "execution_count": 64,
      "metadata": {
        "colab": {
          "base_uri": "https://localhost:8080/"
        },
        "id": "E1feydF-qwHn",
        "outputId": "ca3cbbec-6f5b-4cf8-d5ec-bad0d6d545ac"
      },
      "outputs": [
        {
          "name": "stdout",
          "output_type": "stream",
          "text": [
            "\n",
            "9. Сравнение моделей:\n",
            "Модель 1 (базовая): R-квадрат = 0.0007132552927637814 , MSE = 1686.2203946745367\n",
            "Модель 2 (множественная): R-квадрат = 0.505315948661032 , MSE = 2922.6531491239007\n",
            "Модель 3 (стандартизация): R-квадрат = 0.5053159486610322 , MSE = 2922.6531491238998\n",
            "Модель 4 (Lasso): R-квадрат = 0.9710982484546063 , MSE = 0.06016322894774772\n",
            "Модель 5 (Ridge): R-квадрат = 0.9721856155008518 , MSE = 0.05789971517936072\n",
            "Модель 8 (полиномиальная): R-квадрат = 1.0 , MSE = 4.502086360299455e-30\n",
            "\n",
            "Интерпретация (пример):\n",
            "Коэффициенты модели 2 (множественная регрессия): [-0.99282976  0.490608    0.3926619   0.42729603]\n",
            "Это позволяет оценить вклад каждого признака в предсказание уровня алкоголя.\n"
          ]
        }
      ],
      "source": [
        "print(\"\\n9. Сравнение моделей:\")\n",
        "print(\"Модель 1 (базовая): R-квадрат =\", r2_1, \", MSE =\", mse_1)\n",
        "print(\"Модель 2 (множественная): R-квадрат =\", r2_2, \", MSE =\", mse_2)\n",
        "print(\"Модель 3 (стандартизация): R-квадрат =\", r2_3, \", MSE =\", mse_3)\n",
        "print(\"Модель 4 (Lasso): R-квадрат =\", r2_4, \", MSE =\", mse_4)\n",
        "print(\"Модель 5 (Ridge): R-квадрат =\", r2_5, \", MSE =\", mse_5)\n",
        "print(\"Модель 8 (полиномиальная): R-квадрат =\", r2_8, \", MSE =\", mse_8)\n",
        "\n",
        "# Интерпретация (пример):\n",
        "print(\"\\nИнтерпретация (пример):\")\n",
        "print(\"Коэффициенты модели 2 (множественная регрессия):\", model_2.coef_) # Вывод коэффициентов\n",
        "print(\"Это позволяет оценить вклад каждого признака в предсказание уровня алкоголя.\")\n"
      ]
    },
    {
      "cell_type": "markdown",
      "metadata": {
        "id": "4XLQFImjrufu"
      },
      "source": [
        "**Выводы:**\n",
        "\n",
        "•  Использование нескольких признаков значительно улучшает предсказание содержания алкоголя по сравнению с использованием только одного признака.\n",
        "•  Регуляризация (Lasso и Ridge) приводит к небольшому улучшению обобщающей способности модели, за счет отбрасывания или уменьшения влияния менее важных признаков.\n",
        "•  В данном случае, нет сильной нелинейной зависимости между признаками и целевой переменной, так как полиномиальная регрессия показала результаты хуже, чем линейные модели с регуляризацией.\n",
        "•  Модели с регуляризацией (Lasso и Ridge) показали лучшие результаты, чем обычная множественная линейная регрессия, что может указывать на наличие мультиколлинеарности в данных."
      ]
    }
  ],
  "metadata": {
    "colab": {
      "provenance": []
    },
    "kernelspec": {
      "display_name": "venv",
      "language": "python",
      "name": "python3"
    },
    "language_info": {
      "codemirror_mode": {
        "name": "ipython",
        "version": 3
      },
      "file_extension": ".py",
      "mimetype": "text/x-python",
      "name": "python",
      "nbconvert_exporter": "python",
      "pygments_lexer": "ipython3",
      "version": "3.13.2"
    }
  },
  "nbformat": 4,
  "nbformat_minor": 0
}
